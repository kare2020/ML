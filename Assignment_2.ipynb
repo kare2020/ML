{
 "cells": [
  {
   "cell_type": "markdown",
   "metadata": {},
   "source": [
    "1.    Write a function to compute 5/0 and use  try/except to catch the exception."
   ]
  },
  {
   "cell_type": "code",
   "execution_count": 2,
   "metadata": {},
   "outputs": [
    {
     "name": "stdout",
     "output_type": "stream",
     "text": [
      "This iteration will produce an output of infinite error\n"
     ]
    }
   ],
   "source": [
    "def division(a,b):\n",
    "    return a/b\n",
    "try:                   #try/except to catch the exception \n",
    "    division (5,0)\n",
    "except Exception as x:\n",
    "    print('This iteration will produce an output of infinite error')"
   ]
  },
  {
   "cell_type": "markdown",
   "metadata": {},
   "source": [
    "2. Implement a Python program to generate all sentences where subject is in  [ 'Americans', 'Indians'] and verbs is ['Play', 'Watch'] and the object is in ['Baseball', 'Cricket']"
   ]
  },
  {
   "cell_type": "code",
   "execution_count": 3,
   "metadata": {},
   "outputs": [],
   "source": [
    "subjects = ['Americans','Indians']\n",
    "verbs = ['Play' , 'Watch']\n",
    "objects = ['Baseball','Cricket']"
   ]
  },
  {
   "cell_type": "code",
   "execution_count": 5,
   "metadata": {},
   "outputs": [
    {
     "name": "stdout",
     "output_type": "stream",
     "text": [
      "Americans like to Play Baseball \n",
      " Indians like to Watch Cricket\n"
     ]
    }
   ],
   "source": [
    "print(subjects[0],'like to' ,verbs[0] ,objects[0] ,'\\n',subjects[1] ,'like to', verbs[1] , objects[1])"
   ]
  },
  {
   "cell_type": "code",
   "execution_count": 6,
   "metadata": {},
   "outputs": [
    {
     "name": "stdout",
     "output_type": "stream",
     "text": [
      "Americans Play Baseball\n",
      "Americans Play Cricket\n",
      "Americans Watch Baseball\n",
      "Americans Watch Cricket\n",
      "Indians Play Baseball\n",
      "Indians Play Cricket\n",
      "Indians Watch Baseball\n",
      "Indians Watch Cricket\n"
     ]
    }
   ],
   "source": [
    "for x in subjects:\n",
    "    for y in verbs:\n",
    "        for z in objects:\n",
    "            new = []\n",
    "            new.append(x)\n",
    "            new.append(y)\n",
    "            new.append(z)\n",
    "            print(\" \".join(new))"
   ]
  },
  {
   "cell_type": "code",
   "execution_count": null,
   "metadata": {},
   "outputs": [],
   "source": []
  }
 ],
 "metadata": {
  "kernelspec": {
   "display_name": "Python 3",
   "language": "python",
   "name": "python3"
  },
  "language_info": {
   "codemirror_mode": {
    "name": "ipython",
    "version": 3
   },
   "file_extension": ".py",
   "mimetype": "text/x-python",
   "name": "python",
   "nbconvert_exporter": "python",
   "pygments_lexer": "ipython3",
   "version": "3.7.4"
  }
 },
 "nbformat": 4,
 "nbformat_minor": 2
}
